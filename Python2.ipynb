{
 "cells": [
  {
   "cell_type": "markdown",
   "metadata": {
    "collapsed": true
   },
   "source": [
    "# Introduction to Python: Fundamentals\n",
    "I'm taking this course as part of the Microsoft Softwaren Engineer track, but even more to get a solid foundation in Python for the machine learning and data science courses I am taking."
   ]
  },
  {
   "cell_type": "markdown",
   "metadata": {},
   "source": [
    "## Module 0: Welcome\n",
    "Strange it's all the same stuff - even though they say the other course is a prerequisite, so why the same setup instructions? I suppose it's good to pick up a few more tips on shortcuts that didn't stick the fist time, maybe."
   ]
  },
  {
   "cell_type": "markdown",
   "metadata": {},
   "source": [
    "## Module 1: String Index\n"
   ]
  },
  {
   "cell_type": "code",
   "execution_count": 1,
   "metadata": {},
   "outputs": [
    {
     "name": "stdout",
     "output_type": "stream",
     "text": [
      "Enter your name: Karen\n",
      "K\n",
      "a\n",
      "r\n",
      "e\n",
      "n\n"
     ]
    }
   ],
   "source": [
    "the_name = input(\"Enter your name: \")\n",
    "i = 0\n",
    "while i < len(the_name):\n",
    "    print(the_name[i])\n",
    "    i += 1\n",
    "    \n"
   ]
  },
  {
   "cell_type": "code",
   "execution_count": 2,
   "metadata": {},
   "outputs": [
    {
     "name": "stdout",
     "output_type": "stream",
     "text": [
      "Enter a word or phrase: There was an old woman who lived in a shoe\n",
      "There was an old woman who lived in a shoe\n",
      "here was an old woman who lived in a sho\n",
      "er\n",
      "There\n",
      "re was an old woman who lived in a shoe\n"
     ]
    }
   ],
   "source": [
    "#slicing strings\n",
    "\n",
    "shoe = input(\"Enter a word or phrase: \")\n",
    "print(shoe[0:len(shoe)])\n",
    "print(shoe[1:-1])\n",
    "print(shoe[2:4])\n",
    "print(shoe[:5])\n",
    "print(shoe[3:])\n"
   ]
  },
  {
   "cell_type": "code",
   "execution_count": 3,
   "metadata": {},
   "outputs": [
    {
     "name": "stdout",
     "output_type": "stream",
     "text": [
      "Enter a word or phrase: She had so many children she didn't know what to do\n",
      "she didn't know what to do\n",
      "She had so many children \n"
     ]
    }
   ],
   "source": [
    "# percentage sliced\n",
    "my_string = input(\"Enter a word or phrase: \")\n",
    "print(my_string[int(len(my_string)/2):])\n",
    "print(my_string[:int(len(my_string)/2)])"
   ]
  },
  {
   "cell_type": "code",
   "execution_count": 4,
   "metadata": {},
   "outputs": [
    {
     "name": "stdout",
     "output_type": "stream",
     "text": [
      "Enter a word or phrase: Greetings! We come in peace... take us to your leader.\n",
      "Getns ecm npae. aeu oyu edr \n",
      "\n",
      "Gen!eo  a. kutyree \n",
      "\n",
      ".redael ruoy ot su ekat ...ecaep ni emoc eW !sgniteerG \n",
      "\n",
      ".dlu   a.eenecWsie \n",
      "\n"
     ]
    }
   ],
   "source": [
    "# step slicing...the results look like some kind of alien language, cool\n",
    "my_string = input(\"Enter a word or phrase: \")\n",
    "print(my_string[::2] , \"\\n\")\n",
    "print(my_string[::3], \"\\n\")\n",
    "print(my_string[::-1], \"\\n\")\n",
    "print(my_string[-1::-3], \"\\n\")"
   ]
  },
  {
   "cell_type": "code",
   "execution_count": 5,
   "metadata": {},
   "outputs": [
    {
     "name": "stdout",
     "output_type": "stream",
     "text": [
      "Enter a word or phrase: Wheel of Fortune\n",
      "Guess the phrase... XXXXX XX XXXXXXX\n",
      "Pick a letter: L\n",
      "Guess the phrase... XXXXL XX XXXXXXX\n",
      "Pick a letter: S\n",
      "Guess the phrase... XXXXL XX XXXXXXX\n",
      "Pick a letter: T\n",
      "Guess the phrase... XXXXL XX XXXTXXX\n",
      "Pick a letter: E\n",
      "Guess the phrase... XXEEL XX XXXTXXE\n",
      "Pick a letter: R\n",
      "Guess the phrase... XXEEL XX XXRTXXE\n",
      "Pick a letter: N\n",
      "Guess the phrase... XXEEL XX XXRTXNE\n",
      "Pick a letter: F\n",
      "Guess the phrase... XXEEL XF FXRTXNE\n",
      "Pick a letter: O\n",
      "Guess the phrase... XXEEL OF FORTXNE\n",
      "Pick a letter: H\n",
      "Guess the phrase... XHEEL OF FORTXNE\n",
      "Pick a letter: W\n",
      "Guess the phrase... WHEEL OF FORTXNE\n",
      "Pick a letter: U\n",
      "Congratulations, you guessed the phrase!!\n"
     ]
    }
   ],
   "source": [
    "# could be the start of a hangman game - have to hide the input though.\n",
    "hint=\"\"\n",
    "guess=\"\"\n",
    "solution = input(\"Enter a word or phrase: \").upper()\n",
    "for ltr in solution:\n",
    "    if ltr != \" \": \n",
    "        hint = hint + \"X\"\n",
    "    else:\n",
    "        hint = hint + \" \"\n",
    "        \n",
    "while solution != hint:\n",
    "    print(\"Guess the phrase...\", hint)\n",
    "    hint = \"\"\n",
    "    guess = guess + input(\"Pick a letter: \")[0].upper()\n",
    "    for ltr in solution:\n",
    "        if ltr in guess:\n",
    "            hint = hint + ltr\n",
    "        elif ltr != \" \":\n",
    "            hint = hint + \"X\"\n",
    "        else: \n",
    "            hint = hint + \" \"\n",
    "            \n",
    "print(\"Congratulations, you guessed the phrase!!\")\n",
    "      \n",
    "    \n"
   ]
  },
  {
   "cell_type": "code",
   "execution_count": 6,
   "metadata": {},
   "outputs": [
    {
     "name": "stdout",
     "output_type": "stream",
     "text": [
      "Enter a word or phrase: oh hello\n",
      "That is not a palindrome\n"
     ]
    }
   ],
   "source": [
    "# iteration and slicing...\n",
    "phrase = input(\"Enter a word or phrase: \")\n",
    "if phrase.lower() == phrase[::-1].lower():\n",
    "    print(\"That's a palindrome\")\n",
    "else:\n",
    "    print(\"That is not a palindrome\")"
   ]
  },
  {
   "cell_type": "code",
   "execution_count": 7,
   "metadata": {},
   "outputs": [
    {
     "name": "stdout",
     "output_type": "stream",
     "text": [
      "number of characters in string\n",
      "14 \n",
      "\n",
      "letter \"e\" occurrences\n",
      "2 \n",
      "\n",
      "find the index of the first space\n",
      "4 \n",
      "\n",
      "find the index of \"u\" searching a slice work_tip[3:9] - e your\n",
      "7 \n",
      "\n",
      "find the index of \"e\" searching a slice work_tip[4:] -  your code\n",
      "13\n",
      "The sentence: \"good code is commented code\" has character length =  27\n",
      "good code is \n",
      "commented code\n",
      "good code is commented code\n",
      "how many w's?  0\n",
      "how many o's?  5\n",
      "uses 'code', how many times?  2\n",
      "good code is \n",
      "# o's in first half\n",
      "3\n",
      "\n",
      "commented code\n",
      "# o's in second half\n",
      "2\n",
      "good code has meaningful variable names\n",
      "5 = starting index for \"code\"\n",
      "search for \"meaning\" in the sub-string:  meaningful variable \n",
      "\n",
      "\"meaning\" found in work_tip[13:33] sub-string search at index 14\n",
      "work_tip: good code has meaningful variable names\n",
      "'o' at index = 1\n",
      "'o' at index = 2\n",
      "'o' at index = 6\n",
      "no more o's\n"
     ]
    }
   ],
   "source": [
    "work_tip = \"save your code\"\n",
    "\n",
    "print(\"number of characters in string\")\n",
    "print(len(work_tip),\"\\n\")\n",
    "\n",
    "print('letter \"e\" occurrences')\n",
    "print(work_tip.count(\"e\"),\"\\n\")\n",
    "\n",
    "print(\"find the index of the first space\")\n",
    "print(work_tip.find(\" \"),\"\\n\")\n",
    "\n",
    "print('find the index of \"u\" searching a slice work_tip[3:9] -', work_tip[3:9])\n",
    "print(work_tip.find(\"u\",3,9),\"\\n\")\n",
    "\n",
    "print('find the index of \"e\" searching a slice work_tip[4:] -', work_tip[4:])\n",
    "print(work_tip.find(\"e\",4))\n",
    "\n",
    "work_tip = \"good code is commented code\"\n",
    "\n",
    "print(\"The sentence: \\\"\" + work_tip + \"\\\" has character length = \", len(work_tip) )\n",
    "work_tip = \"good code is commented code\"\n",
    "mid_pt = int(len(work_tip)/2)\n",
    "\n",
    "print(work_tip[:mid_pt])\n",
    "\n",
    "print(work_tip[mid_pt:])\n",
    "\n",
    "print(work_tip)\n",
    "print(\"how many w's? \", work_tip.count(\"w\"))\n",
    "print(\"how many o's? \", work_tip.count(\"o\"))\n",
    "print(\"uses 'code', how many times? \", work_tip.count(\"code\"))\n",
    "\n",
    "print(work_tip[:mid_pt])\n",
    "print(\"# o's in first half\")\n",
    "print(work_tip[:mid_pt].count(\"o\"))\n",
    "\n",
    "print()\n",
    "print(work_tip[mid_pt:])\n",
    "print(\"# o's in second half\")\n",
    "print(work_tip[mid_pt:].count(\"o\"))\n",
    "\n",
    "work_tip = \"good code has meaningful variable names\"\n",
    "print(work_tip)\n",
    "\n",
    "code_here = work_tip.find(\"code\")\n",
    "print(code_here, '= starting index for \"code\"')\n",
    "\n",
    "print('search for \"meaning\" in the sub-string:', work_tip[13:33],\"\\n\")\n",
    "meaning_here = work_tip.find(\"meaning\",13,33)\n",
    "print('\"meaning\" found in work_tip[13:33] sub-string search at index', meaning_here)\n",
    "\n",
    "# if .find(\"o\") has No Match, -1 is returned\n",
    "print (\"work_tip:\" , work_tip)\n",
    "location = work_tip.find(\"o\")\n",
    "\n",
    "# keeps looping until location = -1 (no \"o\" found)\n",
    "while location >= 0:\n",
    "    print(\"'o' at index =\", location)\n",
    "    location = work_tip.find(\"o\", location + 1)\n",
    "print(\"no more o's\")"
   ]
  },
  {
   "cell_type": "code",
   "execution_count": 8,
   "metadata": {},
   "outputs": [
    {
     "name": "stdout",
     "output_type": "stream",
     "text": [
      "Enter your tip here: always get up one more time than you fall down\n",
      "always get up one more \n",
      "time than you fall down\n",
      "There are 4 'e's in your tip.\n",
      "There are 4 'a's in your tip.\n",
      "A, E and O are the most used letter in your tip.\n",
      "A, E and O are used 4 times each.\n",
      "ALWAYS\n",
      "GET\n",
      "UP\n",
      "ONE\n",
      "MORE\n",
      "TIME\n",
      "THAN\n",
      "YOU\n",
      "FALL\n",
      "DOWN\n"
     ]
    }
   ],
   "source": [
    "tip = input(\"Enter your tip here: \")\n",
    "midpoint = int(len(tip)/2)\n",
    "print(tip[:midpoint])\n",
    "print(tip[midpoint:])\n",
    "\n",
    "print(\"There are\", tip.lower().count(\"e\"), \"'e's in your tip.\")\n",
    "print(\"There are\", tip.lower().count(\"a\"), \"'a's in your tip.\")\n",
    "\n",
    "most_common = tip[0].lower()\n",
    "more_common = \"\"\n",
    "\n",
    "for ltr in tip.lower():\n",
    "    if ltr != \" \":\n",
    "        if tip.count(ltr) > tip.count(most_common):\n",
    "            most_common = ltr\n",
    "            more_common = \"\"\n",
    "        elif tip.count(ltr) == tip.count(most_common):\n",
    "            if ltr in more_common:\n",
    "                more_common = more_common\n",
    "            else:\n",
    "                if more_common != \"\":\n",
    "                    more_common = more_common + \", \"\n",
    "                more_common = more_common + ltr\n",
    "\n",
    "if len(more_common) > 1:\n",
    "    msg = more_common.upper()[:-3] + \" and \" + more_common.upper()[-1:] + \" are\"\n",
    "    msg_end = \" each.\"\n",
    "else:\n",
    "    msg = more_common.upper() + \" is\"\n",
    "    msg_end = \".\"\n",
    "        \n",
    "print(msg, \"the most used letter in your tip.\")\n",
    "print(msg, \"used\", tip.count(most_common), \"times\" + msg_end)\n",
    "\n",
    "start = 0\n",
    "i = tip.find(\" \")\n",
    "\n",
    "while i != -1:\n",
    "    print(tip[start:i].upper())\n",
    "    start = i + 1\n",
    "    if tip[start:].find(\" \") > 0:\n",
    "        i = i + tip[start:].find(\" \") + 1\n",
    "    else:\n",
    "        i = tip[start:].find(\" \")\n",
    "        print(tip[start:].upper())\n",
    "\n",
    "    "
   ]
  },
  {
   "cell_type": "code",
   "execution_count": 9,
   "metadata": {},
   "outputs": [
    {
     "name": "stdout",
     "output_type": "stream",
     "text": [
      "Enter your quote: Never, never, never give up\n",
      "NEVER\n",
      "NEVER\n",
      "NEVER\n",
      "UP\n"
     ]
    }
   ],
   "source": [
    "# module one final code challenge\n",
    "\n",
    "quote = input(\"Enter your quote: \")\n",
    "word = \"\"\n",
    "for ch in quote:\n",
    "    if ch.isalpha():\n",
    "        word = word + ch\n",
    "    else:\n",
    "        if word[:1].upper() > \"G\":\n",
    "            print(word.upper())\n",
    "        word = \"\"\n",
    "print(word.upper())\n",
    "        \n"
   ]
  },
  {
   "cell_type": "markdown",
   "metadata": {},
   "source": [
    "## Module 2: Sequence Manipulation\n",
    "Lists and stuff..."
   ]
  },
  {
   "cell_type": "code",
   "execution_count": 10,
   "metadata": {},
   "outputs": [
    {
     "name": "stdout",
     "output_type": "stream",
     "text": [
      "['Vikings', 'Axes', 'Hornets'] \n",
      " [52, 49, 27, 18] \n",
      " [['Vikings', 'Axes', 'Hornets'], [52, 49, 27, 18], 1, 2, 3]\n",
      "<class 'list'>\n",
      "Axes is my son's high school team\n",
      "Our family has  146 years experience.\n",
      "Enter your age: 52\n",
      "Enter your age: 45\n",
      "Enter your age: 18\n",
      "Enter your age: 0\n",
      "[52, 49, 27, 18, 52, 45, 18]\n",
      "62\n",
      "59\n",
      "37\n",
      "28\n",
      "62\n",
      "55\n",
      "28\n",
      "[52, 49, 27, 18, 52, 45, 18]\n",
      "['Vikings', 'AXES', 'Hornets']\n",
      "['Vikings', 'Panthers', 'Ducks', 'Beavers', 'AXES', 'Hornets']\n",
      "['Vikings', 'Panthers', 'Ducks', 'Beavers', 'Hornets']\n",
      "go Hornets\n",
      "go Beavers\n",
      "go Ducks\n",
      "go Panthers\n",
      "go Vikings\n",
      "[]\n",
      "['Beavers', 'Ducks', 'Panthers']\n",
      "['Beavers', 'Panthers']\n"
     ]
    }
   ],
   "source": [
    "team_names = [\"Vikings\", \"Axes\", \"Hornets\"]\n",
    "ages = [52, 49, 27, 18]\n",
    "everything = [team_names, ages, 1, 2, 3]\n",
    "print(team_names, \"\\n\", ages, \"\\n\", everything)\n",
    "print(type(team_names))\n",
    "print(team_names[1] + \" is my son's high school team\")\n",
    "total = 0\n",
    "for num in ages:\n",
    "    total = total + num\n",
    "print(\"Our family has \", total, \"years experience.\")\n",
    "new_age = input(\"Enter your age: \")\n",
    "while new_age != \"0\":\n",
    "    ages.append(int(new_age))\n",
    "    new_age = input(\"Enter your age: \")\n",
    "print(ages)\n",
    "for age in ages:\n",
    "    age = age + 10\n",
    "    print(age)\n",
    "print(ages)\n",
    "team_names[1] = team_names[1].upper()\n",
    "print(team_names)\n",
    "team_names.insert(1,\"Beavers\")\n",
    "team_names.insert(1,\"Ducks\")\n",
    "team_names.insert(1,\"Panthers\")\n",
    "print(team_names)\n",
    "del team_names[4]\n",
    "print(team_names)\n",
    "while team_names:\n",
    "    print(\"go\", team_names.pop())\n",
    "\n",
    "print(team_names)    \n",
    "team_names.append(\"Beavers\")\n",
    "team_names.append(\"Ducks\")\n",
    "team_names.append(\"Panthers\")\n",
    "print(team_names)\n",
    "team_names.remove(\"Ducks\")\n",
    "print(team_names)"
   ]
  },
  {
   "cell_type": "code",
   "execution_count": 11,
   "metadata": {},
   "outputs": [
    {
     "name": "stdout",
     "output_type": "stream",
     "text": [
      "Enter a full phone number: 5037455001\n",
      "5 JKL\n",
      "0  \n",
      "3 DEF\n",
      "7 PQRS\n",
      "4 GHI\n",
      "5 JKL\n",
      "5 JKL\n",
      "0  \n",
      "0  \n",
      "1 \n",
      "Enter a full phone number: 0\n",
      "phone number is invalid, enter all 10 digits, with no spaces or dashes!\n",
      "Enter a full phone number: quit\n"
     ]
    }
   ],
   "source": [
    "# phone numbers\n",
    "def get_suggestions(ph):\n",
    "    for num in ph:\n",
    "        print(num, phone_letters[int(num)])\n",
    "    \n",
    "phone_letters = [' ', '', 'ABC', 'DEF', 'GHI', 'JKL', 'MNO', 'PQRS', 'TUV', 'WXYZ']\n",
    "phone_numbers = []\n",
    "\n",
    "while True:\n",
    "    contact = input(\"Enter a full phone number: \")\n",
    "    if contact.isdigit():\n",
    "        if len(contact) == 10:\n",
    "            phone_numbers.append(contact)\n",
    "            get_suggestions(contact)\n",
    "        else:\n",
    "            print(\"phone number is invalid, enter all 10 digits, with no spaces or dashes!\")\n",
    "    elif contact == \"quit\":\n",
    "        break\n",
    "    else: \n",
    "        print(\"phone number is invalid, enter all 10 digits, with no spaces or dashes!\")\n",
    "        \n",
    "        \n",
    "            \n",
    "    "
   ]
  },
  {
   "cell_type": "code",
   "execution_count": 12,
   "metadata": {},
   "outputs": [
    {
     "name": "stdout",
     "output_type": "stream",
     "text": [
      "Enter a string: Jack and Jill went up the hill\n",
      "['l', 'l', 'i', 'h', ' ', 'e', 'h', 't', ' ', 'p', 'u', ' ', 't', 'n', 'e', 'w', ' ', 'l', 'l', 'i', 'J', ' ', 'd', 'n', 'a', ' ', 'k', 'c', 'a', 'J']\n",
      "llih eht pu tnew lliJ dna kcaJ\n"
     ]
    }
   ],
   "source": [
    "# reverse a string\n",
    "str = input(\"Enter a string: \")\n",
    "str_array = []\n",
    "\n",
    "for ch in str:\n",
    "    str_array.insert(0,ch)\n",
    "\n",
    "print(str_array)\n",
    "\n",
    "rev_str = \"\"\n",
    "while str_array:\n",
    "    rev_str = rev_str + str_array.pop(0)\n",
    "    \n",
    "print(rev_str)\n"
   ]
  },
  {
   "cell_type": "code",
   "execution_count": 13,
   "metadata": {},
   "outputs": [
    {
     "name": "stdout",
     "output_type": "stream",
     "text": [
      "Look at all the stuff in my list:  ['cat', 'dog', 'cat']\n",
      "Enter the name of an item: duck\n",
      "One duck has been added \n",
      "\n",
      "Look at all the stuff in my list:  ['cat', 'dog', 'cat', 'duck']\n",
      "Enter the name of an item: cat\n",
      "One cat has been removed \n",
      "\n",
      "Look at all the stuff in my list:  ['dog', 'cat', 'duck']\n",
      "Enter the name of an item: dog\n",
      "One dog has been removed \n",
      "\n",
      "Look at all the stuff in my list:  ['cat', 'duck']\n",
      "Enter the name of an item: cat\n",
      "One cat has been removed \n",
      "\n",
      "Look at all the stuff in my list:  ['duck']\n",
      "Enter the name of an item: duck\n",
      "One duck has been removed \n",
      "\n",
      "Program over, goodbye!\n"
     ]
    }
   ],
   "source": [
    "# module 2 code challenge: list-o-matic\n",
    "def list_o_matic(item, items):\n",
    "    msg=\"you called me?\"\n",
    "    if item == '':\n",
    "        msg = \"You get a \" + items.pop()\n",
    "    elif item in items:\n",
    "        items.remove(item)\n",
    "        msg = \"One \" + item + \" has been removed\"\n",
    "    else:\n",
    "        items.append(item)\n",
    "        msg = \"One \" + item + \" has been added\"\n",
    "    return msg\n",
    "\n",
    "my_list = [\"cat\", \"dog\", \"cat\"]\n",
    "new_item = ''\n",
    "\n",
    "while my_list:\n",
    "    print(\"Look at all the stuff in my list: \", my_list)\n",
    "    new_item = input(\"Enter the name of an item: \")\n",
    "    if new_item.lower() == 'quit':\n",
    "        break\n",
    "    else:\n",
    "        print(list_o_matic(new_item, my_list), \"\\n\")\n",
    "        \n",
    "print(\"Program over, goodbye!\")\n",
    "\n",
    "\n",
    "\n",
    "\n",
    "\n"
   ]
  },
  {
   "cell_type": "markdown",
   "metadata": {},
   "source": [
    "## Module 3: Sequence Iteration"
   ]
  },
  {
   "cell_type": "markdown",
   "metadata": {},
   "source": [
    "### Section 1: List Iteration"
   ]
  },
  {
   "cell_type": "code",
   "execution_count": 14,
   "metadata": {},
   "outputs": [
    {
     "name": "stdout",
     "output_type": "stream",
     "text": [
      "Honda CRX\n",
      "Nissan Sentra\n",
      "Datsun Pickup\n",
      "Geo Metro\n",
      "['ENG 101']\n",
      "Search names for? Malfoy\n",
      "Total 'a's in list:  3\n",
      "[]\n"
     ]
    }
   ],
   "source": [
    "my_list = [\"Honda CRX\", \"Nissan Sentra\", \"Datsun Pickup\", \"Geo Metro\"]\n",
    "for car in my_list:\n",
    "    print(car)\n",
    "    \n",
    "courses = [\"MTH 101\", \"ENG 101\", \"MUS 101\"]\n",
    "m_classes = []\n",
    "other_classes = []\n",
    "for course in courses:\n",
    "    if course.startswith(\"M\"):\n",
    "        m_classes.append(course)\n",
    "    else:\n",
    "        other_classes.append(course)\n",
    "print(other_classes)\n",
    "\n",
    "total = 0\n",
    "matching_names = []\n",
    "people = ['Henry', 'Sarah', 'Hermione', 'Ron', 'Carl', 'Joe']\n",
    "names_with = input(\"Search names for? \")\n",
    "for person in people:\n",
    "    total += person.lower().count('a')\n",
    "    if names_with.lower() in person.lower():\n",
    "        matching_names.append(person)\n",
    "print(\"Total 'a's in list: \", total)\n",
    "print(matching_names)\n",
    "    \n",
    "    "
   ]
  },
  {
   "cell_type": "markdown",
   "metadata": {},
   "source": [
    "### Section 2: Range Iteration"
   ]
  },
  {
   "cell_type": "code",
   "execution_count": 15,
   "metadata": {},
   "outputs": [
    {
     "name": "stdout",
     "output_type": "stream",
     "text": [
      "1 : 1\n",
      "3 : 3\n",
      "5 : 15\n",
      "7 : 105\n",
      "9 : 945\n",
      "11 : 10395\n",
      "13 : 135135\n",
      "15 : 2027025\n",
      "17 : 34459425\n",
      "19 : 654729075\n",
      "February\n",
      "November\n",
      "Annual\n",
      "Annual\n",
      "Calendar\n",
      "Solstice\n",
      "Tuesday\n",
      "November\n",
      "Solstice\n",
      "1\n",
      "3\n",
      "5\n",
      "7\n",
      "9\n"
     ]
    }
   ],
   "source": [
    "sum = 1\n",
    "for i in range(1,20,2):\n",
    "    sum = i*sum;\n",
    "    print(i, \":\", sum)\n",
    "    \n",
    "spell_list = [\"Tuesday\", \"Wednesday\", \"February\", \"November\", \"Annual\", \"Calendar\", \"Solstice\"]\n",
    "for word in range(2,5):\n",
    "    print(spell_list[word])\n",
    "for word in range(4,len(spell_list)):\n",
    "    print(spell_list[word])\n",
    "for word in range(0,len(spell_list), 3):\n",
    "    print(spell_list[word])\n",
    "    \n",
    "for n in range(1,10,2):\n",
    "    print(n)"
   ]
  },
  {
   "cell_type": "markdown",
   "metadata": {},
   "source": [
    "### Section 3: extend, reverse, sort methods"
   ]
  },
  {
   "cell_type": "code",
   "execution_count": 16,
   "metadata": {},
   "outputs": [
    {
     "name": "stdout",
     "output_type": "stream",
     "text": [
      "['chicken', 'blue jay', 'crow', 'pigeon', 'sparrow', 'raven', 'hummingbird']\n",
      "[0, 1, 2, 3, 4, 5, 6, 7, 8, 9, 10, 20, 30, 40, 50, 60, 70, 80, 90, 100]\n",
      "[100, 90, 80, 70, 60, 50, 40, 30, 20, 10, 9, 8, 7, 6, 5, 4, 3, 2, 1, 0]\n",
      "['blue jay', 'chicken', 'crow', 'hummingbird', 'pigeon', 'raven', 'sparrow']\n",
      "[100, 90, 80, 70, 60, 50, 40, 30, 20, 10, 9, 8, 7, 6, 5, 4, 3, 2, 1, 0]\n"
     ]
    }
   ],
   "source": [
    "common_birds = [\"chicken\", \"blue jay\", \"crow\", \"pigeon\"]\n",
    "birds_seen = [\"sparrow\", \"raven\", \"hummingbird\"]\n",
    "\n",
    "common_birds.extend(birds_seen)\n",
    "print(common_birds)\n",
    "\n",
    "zero_nine = []\n",
    "for n in range(10):\n",
    "    zero_nine.append(n)\n",
    "    \n",
    "ten_onehundred = []\n",
    "for n in range(10,101,10):\n",
    "    ten_onehundred.append(n)\n",
    "\n",
    "all_numbers = zero_nine + ten_onehundred\n",
    "print(all_numbers)\n",
    "\n",
    "all_numbers.reverse()\n",
    "print(all_numbers)\n",
    "\n",
    "sorted_birds = sorted(common_birds)\n",
    "print(sorted_birds)\n",
    "all_numbers.sort\n",
    "print(all_numbers)"
   ]
  },
  {
   "cell_type": "markdown",
   "metadata": {},
   "source": [
    "### Section 4: between strings and lists"
   ]
  },
  {
   "cell_type": "code",
   "execution_count": 17,
   "metadata": {},
   "outputs": [
    {
     "name": "stdout",
     "output_type": "stream",
     "text": [
      "JACK\n",
      "AND\n",
      "JILL\n",
      "WENT\n",
      "UP\n",
      "THE\n",
      "HILL\n",
      "TO\n",
      "FETCH\n",
      "A\n",
      "PAIL\n",
      "OF\n",
      "WATER\n",
      "SUPERC\n",
      "LIFR\n",
      "GILISTIC\n",
      "This is a pre-formatted\n",
      "kind of format to use\n",
      "for printing things \n",
      "a certin way\n",
      "supercielifriegilistic\n",
      "Jack...and...Jill...went...up...the...hill...To...fetch...a...pail...of...water\n",
      "Hello -- world\n",
      "T~h~i~s~ ~i~s~ ~a~ ~t~e~s~t~!\n"
     ]
    }
   ],
   "source": [
    "rhyme = 'Jack and Jill went up the hill To fetch a pail of water'\n",
    "rhyme_words = rhyme.split()\n",
    "for word in rhyme_words:\n",
    "    print(word.upper())\n",
    "    \n",
    "my_word = \"supercalifragilistic\"\n",
    "letters = my_word.split('a')\n",
    "for letter in letters:\n",
    "    print(letter.upper())\n",
    "    \n",
    "print(\"\"\"This is a pre-formatted\n",
    "kind of format to use\n",
    "for printing things \n",
    "a certin way\"\"\")\n",
    "\n",
    "new_word = \"ie\" \n",
    "print(new_word.join(letters))\n",
    "\n",
    "join_ch = \"...\"\n",
    "print(join_ch.join(rhyme_words))\n",
    "\n",
    "print('Hello', end = ' -- ')\n",
    "print('world')\n",
    "\n",
    "test_phrase = list(\"This is a test!\")\n",
    "print('~'.join(test_phrase))\n"
   ]
  },
  {
   "cell_type": "markdown",
   "metadata": {},
   "source": [
    "### Practice"
   ]
  },
  {
   "cell_type": "code",
   "execution_count": 18,
   "metadata": {},
   "outputs": [
    {
     "name": "stdout",
     "output_type": "stream",
     "text": [
      "['Hydrogen', 'Helium', 'Lithium', 'Beryllium', 'Boron', 'Carbon', 'Nitrogen', 'Oxygen', 'Fluorine', 'Neon', 'Sodium', 'Magnesium', 'Aluminum', 'Silicon', 'Phosphorus', 'Sulfur', 'Chlorine', 'Argon', 'Potassium', 'Calcium']\n",
      "ALUMINUM\n",
      "ARGON\n",
      "BERYLLIUM\n",
      "BORON\n",
      "CALCIUM\n",
      "CARBON\n",
      "CHLORINE\n",
      "FLUORINE\n",
      "HELIUM\n",
      "HYDROGEN\n",
      "LITHIUM\n",
      "MAGNESIUM\n",
      "NEON\n",
      "NITROGEN\n",
      "OXYGEN\n",
      "PHOSPHORUS\n",
      "POTASSIUM\n",
      "SILICON\n",
      "SODIUM\n",
      "SULFUR\n",
      "sulfur * sodium * silicon * potassium * phosphorus * oxygen * nitrogen * neon * magnesium * lithium * hydrogen * helium * fluorine * chlorine * carbon * calcium * boron * beryllium * argon * aluminum * "
     ]
    }
   ],
   "source": [
    "elements = ['Hydrogen', 'Helium', 'Lithium', 'Beryllium', 'Boron', 'Carbon', 'Nitrogen', 'Oxygen', 'Fluorine', \\\n",
    " 'Neon', 'Sodium', 'Magnesium', 'Aluminum', 'Silicon', 'Phosphorus', 'Sulfur', 'Chlorine', 'Argon', \\\n",
    " 'Potassium', 'Calcium']\n",
    "print(elements)\n",
    "elements.sort()\n",
    "for element in elements:\n",
    "    print(element.upper())\n",
    "elements.reverse()\n",
    "for element in elements:\n",
    "    print(element.lower(), end=' * ')\n"
   ]
  },
  {
   "cell_type": "markdown",
   "metadata": {},
   "source": [
    "### Code Challenge"
   ]
  },
  {
   "cell_type": "code",
   "execution_count": 19,
   "metadata": {},
   "outputs": [
    {
     "name": "stdout",
     "output_type": "stream",
     "text": [
      "Enter your word list: Little Jack Horner, he sat in a corner, eating his pumpkin pie. He stuck in his thumb and pulled out a plum.\n",
      "plum. CORNER, thumb \n",
      " out HORNER, stuck \n",
      " in Jack sat \n",
      " his Little pulled \n",
      " he PUMPKIN pie. \n",
      " and a in \n",
      "\n"
     ]
    }
   ],
   "source": [
    "def word_mixer(sList):\n",
    "    sList.sort()\n",
    "    new_list = []\n",
    "    while len(sList) > 5:   \n",
    "        new_list.append(sList.pop(-5))\n",
    "        new_list.append(sList.pop(0))\n",
    "        new_list.append(sList.pop(-1))\n",
    "        new_list.append(\"\\n\")\n",
    "    return new_list\n",
    "\n",
    "str = input(\"Enter your word list: \")\n",
    "word_list = str.split()\n",
    "\n",
    "for i in range(0,len(word_list)):\n",
    "    if len(word_list[i]) <= 3:\n",
    "        word_list[i] = word_list[i].lower()\n",
    "    elif len(word_list[i]) >= 7:\n",
    "        word_list[i] = word_list[i].upper()\n",
    "        \n",
    "print(' '.join(word_mixer(word_list)))\n"
   ]
  },
  {
   "cell_type": "markdown",
   "metadata": {},
   "source": [
    "## Module 4: Files"
   ]
  },
  {
   "cell_type": "markdown",
   "metadata": {},
   "source": [
    "### Section 1: Import, open & read files"
   ]
  },
  {
   "cell_type": "code",
   "execution_count": 8,
   "metadata": {},
   "outputs": [
    {
     "name": "stdout",
     "output_type": "stream",
     "text": [
      "  % Total    % Received % Xferd  Average Speed   Time    Time     Time  Current\n",
      "                                 Dload  Upload   Total   Spent    Left  Speed\n",
      "100   222  100   222    0     0    222      0 --:--:-- --:--:-- --:--:--     0    0  0:00:01 --:--:--  0:00:01   678\n"
     ]
    }
   ],
   "source": [
    "#Importing files... !curl <pathname> -o <filename>.txt\n",
    "!curl https://raw.githubusercontent.com/MicrosoftLearning/intropython/master/world_temp_mean.csv -o mean_temp.txt\n",
    "    "
   ]
  },
  {
   "cell_type": "code",
   "execution_count": 20,
   "metadata": {},
   "outputs": [
    {
     "name": "stdout",
     "output_type": "stream",
     "text": [
      "Loops I repeat\n",
      "\n",
      "loops\n",
      "loop\n",
      "s\n",
      "loops\n",
      "I repea\n",
      "Beijing\n",
      "Cairo\n",
      "London\n",
      "Nairobi\n",
      "New York City\n",
      "Sydney\n",
      "Tokyo\n",
      "\n",
      "3.14159\n"
     ]
    }
   ],
   "source": [
    "poem_file = open('poem1.txt', 'r')\n",
    "poem = poem_file.read(15)\n",
    "print(poem)\n",
    "poem = poem_file.read(10)\n",
    "print(poem)\n",
    "poem = poem_file.read(15)\n",
    "print(poem)\n",
    "poem_file.close()\n",
    "\n",
    "cities_file = open('cities.txt', 'r')\n",
    "city_names = list(cities_file)\n",
    "print(\"\".join(city_names))\n",
    "cities_file.close()\n",
    "\n",
    "pi_file = open('pi.txt', 'r')\n",
    "pi_digits = pi_file.read(7)\n",
    "print(pi_digits)\n",
    "pi_file.close()\n"
   ]
  },
  {
   "cell_type": "markdown",
   "metadata": {},
   "source": [
    "### Section 2: .readlines() & .close() methods"
   ]
  },
  {
   "cell_type": "code",
   "execution_count": 21,
   "metadata": {},
   "outputs": [
    {
     "name": "stdout",
     "output_type": "stream",
     "text": [
      "Loops I repeat\n",
      "--loops\n",
      "--loops\n",
      "--loops\n",
      "--I repeat\n",
      "--until I\n",
      "--break\n",
      "--\n",
      "\n",
      "***** Cities *****\n",
      "Beijing\n",
      "Cairo\n",
      "London\n",
      "Nairobi\n",
      "New York City\n",
      "Sydney\n",
      "Tokyo\n"
     ]
    }
   ],
   "source": [
    "poem1 = open('poem1.txt', 'r')\n",
    "poem_lines = poem1.readlines()\n",
    "for line in poem_lines:\n",
    "    print(line, end='--')\n",
    "poem1.close()\n",
    "\n",
    "print(\"\\n\\n***** Cities *****\")\n",
    "cities_file = open('cities.txt', 'r')\n",
    "cities = cities_file.readlines()\n",
    "for city in cities:\n",
    "    print(city[:-1])\n",
    "cities_file.close()"
   ]
  },
  {
   "cell_type": "markdown",
   "metadata": {},
   "source": [
    "### Section 3: .readline() & .strip() methods"
   ]
  },
  {
   "cell_type": "code",
   "execution_count": 22,
   "metadata": {},
   "outputs": [
    {
     "name": "stdout",
     "output_type": "stream",
     "text": [
      "red\n",
      " orange\n",
      " yellow\n",
      "\n",
      "RED\n",
      "ORANGE\n",
      "YELLOW\n",
      "GREEN\n",
      "BLUE\n",
      "INDIGO\n",
      "VIOLET\n",
      "Beijing\n",
      "Cairo\n",
      "London\n",
      "Nairobi\n",
      "New York City\n",
      "Sydney\n",
      "Tokyo\n",
      "a\n",
      "an\n",
      "any\n",
      "and\n",
      "also\n",
      "alone\n",
      "all\n",
      "alright\n",
      "boy\n",
      "Bob\n",
      "but\n",
      "bell\n",
      "bee\n",
      "can\n",
      "could\n",
      "care\n",
      "core\n",
      "cape\n",
      "cat\n",
      "cap\n",
      "cup\n",
      "cut\n",
      "dog\n",
      "do\n",
      "does\n",
      "dry\n",
      "elephant\n",
      "fan\n",
      "fat\n",
      "fate\n",
      "fantastic\n",
      "future\n",
      "fortune\n",
      "for\n",
      "four\n",
      "five\n",
      "feet\n",
      "foot\n",
      "god\n",
      "good\n",
      "great\n",
      "grand\n",
      "gold\n",
      "zebra\n"
     ]
    }
   ],
   "source": [
    "rainbow_file = open('rainbow.txt', 'r')\n",
    "color1 = rainbow_file.readline()\n",
    "color2 = rainbow_file.readline()\n",
    "color3 = rainbow_file.readline()\n",
    "rainbow_file.close()\n",
    "\n",
    "print(color1, color2, color3)\n",
    "\n",
    "rainbow_file = open('rainbow.txt', 'r')\n",
    "color = rainbow_file.readline()\n",
    "\n",
    "while color:\n",
    "    print(color.upper(), end='')\n",
    "    color = rainbow_file.readline()\n",
    "\n",
    "rainbow_file.close()\n",
    "\n",
    "cities_file = open('cities.txt', 'r')\n",
    "city = cities_file.readline().strip()\n",
    "\n",
    "while city:\n",
    "    print(city)\n",
    "    city = cities_file.readline().strip()\n",
    "    \n",
    "cities_file.close()\n",
    "\n",
    "words = open('words.txt', 'r')\n",
    "word = words.readline().strip()\n",
    "\n",
    "while word:\n",
    "    print(word)\n",
    "    word = words.readline().strip()\n",
    "    \n",
    "words.close()"
   ]
  },
  {
   "cell_type": "markdown",
   "metadata": {},
   "source": [
    "### Section 4: .write() & .seek() methods"
   ]
  },
  {
   "cell_type": "code",
   "execution_count": 24,
   "metadata": {},
   "outputs": [
    {
     "name": "stdout",
     "output_type": "stream",
     "text": [
      "Enter a friend's name: Zack\n",
      "Enter a friend's name: Ewa\n",
      "Enter a friend's name: Amber\n",
      "Enter a friend's name: Addison\n",
      "Enter a friend's name: Alex\n",
      "Zack\n",
      "Ewa\n",
      "Amber\n",
      "Addison\n",
      "Alex\n",
      "Jupiter\n",
      "Saturn\n",
      "Neptune\n",
      "Uranus\n",
      "\n"
     ]
    }
   ],
   "source": [
    "my_friends = open('friends.txt', 'a+')\n",
    "friends = []\n",
    "\n",
    "for i in range(5):\n",
    "    friends.append(input(\"Enter a friend's name: \"))\n",
    "\n",
    "print(\"\\n\".join(friends))\n",
    "my_friends.write(\"\\n\".join(friends))\n",
    "my_friends.close()\n",
    "\n",
    "outer_planets = open('planets.txt', 'w+')\n",
    "outer_planets.write('Jupiter\\n')\n",
    "outer_planets.write('Saturn\\n')\n",
    "outer_planets.write('Neptune\\n')\n",
    "outer_planets.write('Uranus\\n')\n",
    "\n",
    "outer_planets.seek(0)\n",
    "\n",
    "the_planets = outer_planets.read()\n",
    "print(the_planets)"
   ]
  },
  {
   "cell_type": "markdown",
   "metadata": {},
   "source": [
    "### Practice"
   ]
  },
  {
   "cell_type": "code",
   "execution_count": 39,
   "metadata": {},
   "outputs": [
    {
     "name": "stdout",
     "output_type": "stream",
     "text": [
      "blue\n",
      "green\n",
      "indigo\n",
      "orange\n",
      "red\n",
      "violet\n",
      "yellow\n"
     ]
    }
   ],
   "source": [
    "# rainbow colors\n",
    "colors = open('rainbow.txt', 'r')\n",
    "rainbow = []\n",
    "color = colors.readline().strip()\n",
    "\n",
    "while color:\n",
    "    rainbow.append(color)\n",
    "    color = colors.readline().strip()\n",
    "    \n",
    "colors.close()\n",
    "\n",
    "rainbow.sort()\n",
    "for c in rainbow:\n",
    "    print(c)\n",
    "    \n",
    "colors.close()"
   ]
  },
  {
   "cell_type": "code",
   "execution_count": 13,
   "metadata": {},
   "outputs": [
    {
     "name": "stdout",
     "output_type": "stream",
     "text": [
      "city,country,month ave: highest high,month ave: lowest low\n",
      "\n",
      "city \t month ave: highest high\n",
      "Beijing \t 30.9\n",
      "Cairo \t\t 34.7\n",
      "London \t\t 23.5\n",
      "Nairobi \t 26.3\n",
      "New York City \t 28.9\n",
      "Sydney \t\t 26.5\n",
      "Tokyo \t\t 30.8\n"
     ]
    }
   ],
   "source": [
    "# weather\n",
    "weather = open('mean_temp.txt', 'r')\n",
    "\n",
    "headings = weather.readline()\n",
    "print(headings)\n",
    "list_headings = headings.split(',')\n",
    "print(list_headings[0], \"\\t\", list_headings[2])\n",
    "\n",
    "temps = weather.readline()\n",
    "city_temps = []\n",
    "while temps:\n",
    "    city_temps = temps.split(',')\n",
    "    if len(city_temps[0]) > 6:\n",
    "        sep = \"\\t\"\n",
    "    else:\n",
    "        sep = \"\\t\\t\"\n",
    "    print(city_temps[0], sep, city_temps[2])\n",
    "    temps = weather.readline()\n",
    "\n",
    "weather.close()\n"
   ]
  },
  {
   "cell_type": "code",
   "execution_count": 41,
   "metadata": {},
   "outputs": [
    {
     "name": "stdout",
     "output_type": "stream",
     "text": [
      "Enter your name... Chris\n",
      "Hi, Chris\n",
      "Guess my number (single digits only): 4\n",
      "Nope, guess again (single digits only): 6\n"
     ]
    }
   ],
   "source": [
    "# pi-guessing\n",
    "pi_digits = open('pi.txt', 'r')\n",
    "\n",
    "username = input(\"Enter your name... \")\n",
    "print(\"Hi,\",username)\n",
    "seed = len(username)\n",
    "digit = pi_digits.seek(seed, 0)\n",
    "# correct = 0\n",
    "# wrong = 0\n",
    "guess = input(\"Guess my number (single digits only): \")\n",
    "while guess != digit:\n",
    "    guess = input(\"Nope, guess again (single digits only): \")\n",
    "    if guess.isalpha:\n",
    "        break\n",
    "        \n",
    "pi_digits.close()\n"
   ]
  },
  {
   "cell_type": "markdown",
   "metadata": {},
   "source": [
    "### Code Challenge"
   ]
  },
  {
   "cell_type": "code",
   "execution_count": 20,
   "metadata": {},
   "outputs": [
    {
     "name": "stdout",
     "output_type": "stream",
     "text": [
      "  % Total    % Received % Xferd  Average Speed   Time    Time     Time  Current\n",
      "                                 Dload  Upload   Total   Spent    Left  Speed\n",
      "100   222  100   222    0     0    222      0  0:00:01 --:--:--  0:00:01   732\n",
      "City of Beijing month ave: highest high is 30.9 Celcius\n",
      "City of Cairo month ave: highest high is 34.7 Celcius\n",
      "City of London month ave: highest high is 23.5 Celcius\n",
      "City of Nairobi month ave: highest high is 26.3 Celcius\n",
      "City of New York City month ave: highest high is 28.9 Celcius\n",
      "City of Sydney month ave: highest high is 26.5 Celcius\n",
      "City of Tokyo month ave: highest high is 30.8 Celcius\n",
      "City of Rio de Janeiro month ave: highest high is 30.0 Celcius\n"
     ]
    }
   ],
   "source": [
    "!curl https://raw.githubusercontent.com/MicrosoftLearning/intropython/master/world_temp_mean.csv -o mean_temp.txt\n",
    "    \n",
    "weather_stats = open('mean_temp.txt', 'a+')\n",
    "\n",
    "weather_stats.write(\"Rio de Janeiro,Brazil,30.0,18.0\\n\")\n",
    "weather_stats.seek(0)\n",
    "headings = weather_stats.readline().split(',')\n",
    "\n",
    "temps = weather_stats.readline()\n",
    "city_temps = []\n",
    "while temps:\n",
    "    city_temps = temps.split(',')\n",
    "    print(headings[0].title(),\"of\", city_temps[0], headings[2],\"is\",city_temps[2],\"Celcius\")\n",
    "    temps = weather_stats.readline()\n",
    "\n",
    "weather_stats.close()\n"
   ]
  },
  {
   "cell_type": "markdown",
   "metadata": {},
   "source": [
    "## Module 5: Final Code Challenge"
   ]
  },
  {
   "cell_type": "code",
   "execution_count": 36,
   "metadata": {},
   "outputs": [
    {
     "name": "stdout",
     "output_type": "stream",
     "text": [
      "Enter 5 of the first 20 elements in the Periodic Table.\n",
      "Enter the name of an element:  \n",
      "Oops, that is not a valid name...\n",
      "Enter the name of an element: \n",
      "Oops, that is not a valid name...\n",
      "Enter the name of an element: 1235\n",
      "Oops, that is not a valid name...\n",
      "Enter the name of an element: 12\n",
      "Oops, that is not a valid name...\n",
      "Enter the name of an element: gold\n",
      "Enter the name of an element: silver\n",
      "Enter the name of an element: neon\n",
      "Enter the name of an element: bright lights\n",
      "Oops, that is not a valid name...\n",
      "Enter the name of an element: big city\n",
      "Oops, that is not a valid name...\n",
      "Enter the name of an element: citium\n",
      "Enter the name of an element: oxygen\n",
      "Your score is: 40 %\n",
      "Found: Neon Oxygen \n",
      "Not Found: Gold Silver Citium "
     ]
    }
   ],
   "source": [
    "!curl https://raw.githubusercontent.com/MicrosoftLearning/intropython/master/elements1_20.txt -o elements.txt\n",
    "\n",
    "def get_names():\n",
    "    quiz_response = []\n",
    "    print(\"Enter 5 of the first 20 elements in the Periodic Table.\")\n",
    "    while len(quiz_response) < 5:\n",
    "        resp = input(\"Enter the name of an element: \").lower()\n",
    "        if resp.isalpha():\n",
    "            while resp in quiz_response:\n",
    "                print(\"You already entered that one! Try again...\")\n",
    "                resp = input(\"Enter the name of an element: \").lower()\n",
    "            quiz_response.append(resp)\n",
    "        else:\n",
    "            print(\"Oops, that is not a valid name...\")\n",
    "        \n",
    "    return quiz_response\n",
    "\n",
    "elements_file = open('elements.txt', 'r')\n",
    "elements = []\n",
    "element = elements_file.readline().strip()\n",
    "\n",
    "while element:\n",
    "    elements.append(element.lower())\n",
    "    element = elements_file.readline().strip()\n",
    "    \n",
    "elements_file.close()\n",
    "\n",
    "answers = get_names()\n",
    "\n",
    "score = 0\n",
    "correct = []\n",
    "incorrect = []\n",
    "\n",
    "for e in answers:\n",
    "    if e in elements:\n",
    "        score += 20\n",
    "        correct.append(e)\n",
    "    else:\n",
    "        incorrect.append(e)\n",
    "    \n",
    "print(\"Your score is:\", score, \"%\")\n",
    "print(\"Found:\", end=' ')\n",
    "for e in correct:\n",
    "    print(e.title(), end=' ')\n",
    "    \n",
    "print(\"\\nNot Found:\", end=' ')\n",
    "for e in incorrect:\n",
    "    print(e.title(), end=' ')\n"
   ]
  },
  {
   "cell_type": "code",
   "execution_count": null,
   "metadata": {},
   "outputs": [],
   "source": []
  },
  {
   "cell_type": "code",
   "execution_count": null,
   "metadata": {},
   "outputs": [],
   "source": []
  }
 ],
 "metadata": {
  "kernelspec": {
   "display_name": "Python 3.6",
   "language": "python",
   "name": "python36"
  },
  "language_info": {
   "codemirror_mode": {
    "name": "ipython",
    "version": 3
   },
   "file_extension": ".py",
   "mimetype": "text/x-python",
   "name": "python",
   "nbconvert_exporter": "python",
   "pygments_lexer": "ipython3",
   "version": "3.6.3"
  }
 },
 "nbformat": 4,
 "nbformat_minor": 2
}
