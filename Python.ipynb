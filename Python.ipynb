{
 "cells": [
  {
   "cell_type": "markdown",
   "metadata": {
    "collapsed": true
   },
   "source": [
    "# Welcome to Python\n",
    "This notebook is to hold my python exercises for various python classes through Microsoft Academy and other places. \n",
    "\n",
    "## Module 1: Basics"
   ]
  },
  {
   "cell_type": "code",
   "execution_count": 1,
   "metadata": {},
   "outputs": [
    {
     "name": "stdout",
     "output_type": "stream",
     "text": [
      "Hello World\n"
     ]
    }
   ],
   "source": [
    "# My first program: Hello World\n",
    "print(\"Hello World\")"
   ]
  },
  {
   "cell_type": "code",
   "execution_count": 2,
   "metadata": {},
   "outputs": [
    {
     "name": "stdout",
     "output_type": "stream",
     "text": [
      "Strings can go in single quotes\n",
      "or they can go in double quotes\n"
     ]
    }
   ],
   "source": [
    "# String samples:\n",
    "print('Strings can go in single quotes')\n",
    "print(\"or they can go in double quotes\")"
   ]
  },
  {
   "cell_type": "code",
   "execution_count": 4,
   "metadata": {},
   "outputs": [
    {
     "name": "stdout",
     "output_type": "stream",
     "text": [
      "123456\n",
      "579\n"
     ]
    }
   ],
   "source": [
    "# Strings vs. Integers:\n",
    "print('123' + '456')\n",
    "print(123 + 456)"
   ]
  },
  {
   "cell_type": "code",
   "execution_count": 4,
   "metadata": {},
   "outputs": [
    {
     "name": "stdout",
     "output_type": "stream",
     "text": [
      "Karen\n",
      "Freeman-Smith\n",
      "is %n 52\n"
     ]
    }
   ],
   "source": [
    "# Some fun with variables\n",
    "my_name = \"Karen\"\n",
    "my_age = 52\n",
    "print(my_name)\n",
    "my_name = \"Freeman-Smith\"\n",
    "print(my_name)\n",
    "print(\"is %n\",my_age)\n"
   ]
  },
  {
   "cell_type": "code",
   "execution_count": 2,
   "metadata": {},
   "outputs": [
    {
     "data": {
      "text/plain": [
       "float"
      ]
     },
     "execution_count": 2,
     "metadata": {},
     "output_type": "execute_result"
    }
   ],
   "source": [
    "# Practice using type command\n",
    "# type(\"Hello world!\")\n",
    "type(3.14)\n",
    "# type(42)"
   ]
  },
  {
   "cell_type": "code",
   "execution_count": 50,
   "metadata": {},
   "outputs": [
    {
     "name": "stdout",
     "output_type": "stream",
     "text": [
      "What is your name? karen\n",
      "How old will you be on your birthday this year? 45\n",
      "What is your favorite color? purple\n",
      "\n",
      "***---***---***---***---***\n",
      "\n",
      "Remember: \"Age is just a number...\"\n",
      "\n",
      "***---***---***---***---***\n",
      "\n",
      "Happy birthday, KAREN!\n",
      "I think your friends will find you sexy and mysterious all year long.\n",
      "You were born in 1973.\n",
      "\n",
      "***---***---***---***---***\n",
      "\n",
      "You many not know this, but 1973 was the year that...\n",
      "\n",
      "***---***---***---***---***\n",
      "\n"
     ]
    }
   ],
   "source": [
    "# Fun project idea: Create a program that prints out a thing for you that tailors the \n",
    "# message to your age, like the \"You were born on...\" cards they sell.\n",
    "\n",
    "# Inputs your name\n",
    "your_name = input(\"What is your name? \").upper()\n",
    "\n",
    "# Inputs your current age\n",
    "def input_age(msg):\n",
    "    ya = input(msg) \n",
    "    if ya.isdigit():\n",
    "        return int(ya)\n",
    "    else:\n",
    "        return input_age(\"How old will you be on your birthday this year? (Please enter your age as a number!)\")\n",
    "        \n",
    "        \n",
    "your_age = input_age(\"How old will you be on your birthday this year? \")\n",
    "\n",
    "# Input your favorite color\n",
    "your_color = input(\"What is your favorite color? \")\n",
    "# Check to see if it's a color\n",
    "bright_colors = (\"white, red, yellow, orange\")\n",
    "dark_colors = (\"black, grey, blue, green, purple\")\n",
    "\n",
    "# Calculates your year of birth\n",
    "# to help debug logic: print(your_age, type(your_age))\n",
    "birth_year = 2018 - your_age\n",
    "\n",
    "# Has data for each possible year of birth - some kind of array structure to hold it all,\n",
    "# Things like headline news, famous births/deaths, who won some awards, price of common \n",
    "# items, and other interesting trivia about your year of birth...\n",
    "\n",
    "# Print out a personalized greeting:\n",
    "print()\n",
    "print(\"***---***---***---***---***\")\n",
    "print()\n",
    "if your_age < 120:\n",
    "    print(\"Remember: \\\"Age is just a number...\\\"\")\n",
    "    print()\n",
    "    print(\"***---***---***---***---***\")\n",
    "    print()\n",
    "    print(\"Happy birthday, \" + your_name + \"!\")\n",
    "    if (your_color.lower() in bright_colors.lower()):\n",
    "        print(\"I hope your whole year will be filled with rainbows and unicorns!\")\n",
    "    elif (your_color.lower() in dark_colors.lower()):\n",
    "        print(\"I think your friends will find you sexy and mysterious all year long.\")\n",
    "    else:\n",
    "        print(\"May the next year bring you joy and happiness through increased simplicity.\")\n",
    "\n",
    "    print(\"You were born in \" + str(birth_year) + \".\")\n",
    "    print()\n",
    "    print(\"***---***---***---***---***\")\n",
    "    print()\n",
    "\n",
    "    # Go on and print a statement for each of the year's trivia facts:\n",
    "    print(\"You many not know this, but\",birth_year,\"was the year that...\")\n",
    "else:\n",
    "    print(\"Sorry, you are too old to use this program!!!\")\n",
    "    \n",
    "print()\n",
    "print(\"***---***---***---***---***\")\n",
    "print()\n",
    "\n"
   ]
  },
  {
   "cell_type": "code",
   "execution_count": 36,
   "metadata": {},
   "outputs": [],
   "source": [
    "# Test string functions:\n",
    "# str.isalpha()\n",
    "# str.isalnum()\n",
    "# str.startswith()\n",
    "# str.isuppper()\n",
    "# str.islower()\n",
    "# str.istitle()\n",
    "# str.isdigit()\n",
    "\n"
   ]
  },
  {
   "cell_type": "markdown",
   "metadata": {},
   "source": [
    "I'm feeling really frustrated at this point because we don't have any branching or looping keywords yet and so the whole boolean thing seems pointless. I'd like to see the various data types, math, booleans, etc come in at a more useful point. I'm always more interested later when I can use them and tend to gloss over and miss the details in these data dump type introductions."
   ]
  },
  {
   "cell_type": "code",
   "execution_count": 24,
   "metadata": {},
   "outputs": [],
   "source": [
    "# Change string functions\n",
    "# str.capitalize()\n",
    "# str.lower()\n",
    "# str.upper()\n",
    "# str.swapcase()\n",
    "# str.title()"
   ]
  },
  {
   "cell_type": "markdown",
   "metadata": {},
   "source": [
    "## Module 2: Functions\n",
    "This section begins module 2...which also seems pointless when you have no logic to add to your program yet! \n",
    "There are some predefined functions that are moderately interesting I suppose, still, so much information and so little to do with it!!!"
   ]
  },
  {
   "cell_type": "code",
   "execution_count": 49,
   "metadata": {},
   "outputs": [
    {
     "name": "stdout",
     "output_type": "stream",
     "text": [
      "<h2>Hello world...blah, blah, blah</h2>\n"
     ]
    }
   ],
   "source": [
    "def my_function():\n",
    "    print(\"Hello world...blah, blah, blah\")\n",
    "\n",
    "my_function()\n"
   ]
  },
  {
   "cell_type": "markdown",
   "metadata": {},
   "source": [
    "The best thing I can imagine for this approach toward teaching functions first is maybe to design programs with an outline of the funcitons you will be using in them before actually writing the functions themselves. Maybe document with comments or something? But then why not jump into designing objects first? Just really not liking this order of instruction right now."
   ]
  },
  {
   "cell_type": "code",
   "execution_count": 6,
   "metadata": {},
   "outputs": [
    {
     "name": "stdout",
     "output_type": "stream",
     "text": [
      "Hello KAREN\n",
      "Hello Fredia\n",
      "Hello Christopher, Becky, and Johnathan!\n"
     ]
    }
   ],
   "source": [
    "def friendly_function(your_name):\n",
    "    print(\"Hello\", your_name)\n",
    "\n",
    "friendly_function(your_name)\n",
    "friendly_function(\"Fredia\")\n",
    "friendly_function(\"Christopher, Becky, and Johnathan!\")\n"
   ]
  },
  {
   "cell_type": "code",
   "execution_count": 9,
   "metadata": {},
   "outputs": [
    {
     "name": "stdout",
     "output_type": "stream",
     "text": [
      "CAN YOU HEAR ME NOW?!!!!!\n",
      "HELLO!!!!!\n"
     ]
    }
   ],
   "source": [
    "def louder_please(what_you_said = \"hello\"):\n",
    "    print(what_you_said.upper() + \"!!!!!\")\n",
    "    \n",
    "louder_please(\"Can you hear me now?\")\n",
    "louder_please()\n"
   ]
  },
  {
   "cell_type": "code",
   "execution_count": 12,
   "metadata": {},
   "outputs": [
    {
     "name": "stdout",
     "output_type": "stream",
     "text": [
      "4\n",
      "9\n",
      "16\n",
      "25\n"
     ]
    }
   ],
   "source": [
    "def square(num=2):\n",
    "    return num * num\n",
    "\n",
    "print(square())\n",
    "print(square(3))\n",
    "print(square(4))\n",
    "print(square(5))"
   ]
  },
  {
   "cell_type": "code",
   "execution_count": 13,
   "metadata": {},
   "outputs": [
    {
     "name": "stdout",
     "output_type": "stream",
     "text": [
      "hello times 2\n",
      "goodbye times 5\n"
     ]
    }
   ],
   "source": [
    "def repeater(msg='hello',num=2):\n",
    "    return msg + \" times \" + str(num)\n",
    "\n",
    "print(repeater())\n",
    "print(repeater(\"goodbye\",5))\n",
    "    "
   ]
  },
  {
   "cell_type": "markdown",
   "metadata": {},
   "source": [
    "I like the functions early because it makes them seem less intimidating, but I'm frustrated I can't just loop X times with this repeater and repeat the phrase however many times I want."
   ]
  },
  {
   "cell_type": "code",
   "execution_count": 14,
   "metadata": {},
   "outputs": [
    {
     "name": "stdout",
     "output_type": "stream",
     "text": [
      "Hello, Mr. Freeman\n"
     ]
    }
   ],
   "source": [
    "def polite_function(surname=\"Smith\"):\n",
    "    print(\"Hello, Mr.\", surname)\n",
    "    \n",
    "polite_function(\"Freeman\")\n"
   ]
  },
  {
   "cell_type": "code",
   "execution_count": 16,
   "metadata": {},
   "outputs": [
    {
     "name": "stdout",
     "output_type": "stream",
     "text": [
      "Roses are red\n",
      "Violets are blue\n",
      "This poem is dumb\n",
      "and so are you\n",
      "None\n",
      "\n",
      "Roses are red\n",
      "Violets are pink\n",
      "This poem is dumb\n",
      "and so are sink\n",
      "None\n"
     ]
    }
   ],
   "source": [
    "def short_rhyme(wrd1=\"blue\", wrd2=\"you\"):\n",
    "    print(\"Roses are red\")\n",
    "    print(\"Violets are\", wrd1)\n",
    "    print(\"This poem is dumb\")\n",
    "    print(\"and so are\", wrd2)\n",
    "    \n",
    "print(short_rhyme())\n",
    "print()\n",
    "print(short_rhyme(\"pink\", \"sink\"))\n"
   ]
  },
  {
   "cell_type": "code",
   "execution_count": 18,
   "metadata": {},
   "outputs": [
    {
     "name": "stdout",
     "output_type": "stream",
     "text": [
      "What kind of fish is this?goldfish\n",
      "How much does a goldfish cost?1.34\n",
      "Fish type: goldfish costs $1.34\n"
     ]
    }
   ],
   "source": [
    "def fishstore(fish, price):\n",
    "    return \"Fish type: \" + fish + \" costs $\" + price\n",
    "\n",
    "fish = input(\"What kind of fish is this?\")\n",
    "price = input(\"How much does a \" + fish + \" cost?\")\n",
    "\n",
    "print(fishstore(fish,price))\n"
   ]
  },
  {
   "cell_type": "markdown",
   "metadata": {},
   "source": [
    "## Module 3: Conditionals\n",
    "Whoot! Now we can start doing more fun stuff...\n"
   ]
  },
  {
   "cell_type": "code",
   "execution_count": 19,
   "metadata": {},
   "outputs": [
    {
     "name": "stdout",
     "output_type": "stream",
     "text": [
      "It's going to be a nice day.\n"
     ]
    }
   ],
   "source": [
    "sunny_today = True\n",
    "if sunny_today:\n",
    "    print(\"It's going to be a nice day.\")\n",
    "else:\n",
    "    print(\"Better dress warm and carry an umbrella!\")"
   ]
  },
  {
   "cell_type": "code",
   "execution_count": 44,
   "metadata": {},
   "outputs": [
    {
     "name": "stdout",
     "output_type": "stream",
     "text": [
      "Wayne is 12\n"
     ]
    }
   ],
   "source": [
    "first_student_age = 13\n",
    "first_student_name = \"Mark\"\n",
    "second_student_age = 12\n",
    "second_student_name = \"Wayne\"\n",
    "\n",
    "if first_student_name > second_student_name:\n",
    "    print(first_student_name, \"is\", first_student_age)\n",
    "else:\n",
    "    print(second_student_name, \"is\", second_student_age)\n"
   ]
  },
  {
   "cell_type": "code",
   "execution_count": 46,
   "metadata": {},
   "outputs": [
    {
     "name": "stdout",
     "output_type": "stream",
     "text": [
      "Are zebras stripped? (please answer t/f): t\n",
      "Correct!!!\n",
      "Do giraffes have necks? (please answer t/f): t\n",
      "Correct!!!\n",
      "Do humans live on Mars? (please answer t/f): t\n",
      "Sorry, nope...\n"
     ]
    }
   ],
   "source": [
    "def check_quiz(msg,answer):\n",
    "    a = input(msg + \" (please answer t/f): \")\n",
    "    if a.lower() == answer.lower():\n",
    "        print(\"Correct!!!\")\n",
    "    else: \n",
    "        print(\"Sorry, nope...\")\n",
    "\n",
    "check_quiz(\"Are zebras stripped?\", \"t\")\n",
    "check_quiz(\"Do giraffes have necks?\", \"t\")\n",
    "check_quiz(\"Do humans live on Mars?\", \"f\")\n"
   ]
  },
  {
   "cell_type": "code",
   "execution_count": 52,
   "metadata": {},
   "outputs": [
    {
     "name": "stdout",
     "output_type": "stream",
     "text": [
      "13.0\n"
     ]
    }
   ],
   "source": [
    "calculation = 5 + 15 / 5 + 3 * 2 - 1\n",
    "print(calculation)"
   ]
  },
  {
   "cell_type": "code",
   "execution_count": 57,
   "metadata": {},
   "outputs": [
    {
     "name": "stdout",
     "output_type": "stream",
     "text": [
      "Enter cheese order weight (numeric value): .2\n",
      "Sorry, 0.9119999999999999 is below the minimum order amount\n"
     ]
    }
   ],
   "source": [
    "price = 4.56\n",
    "order_amount = float(input(\"Enter cheese order weight (numeric value): \"))\n",
    "total = price * order_amount\n",
    "if total < 5.0:\n",
    "    print(\"Sorry,\", total, \"is below the minimum order amount\")\n",
    "elif order_amount > 100.0:\n",
    "    print(\"Sorry,\", order_amount, \"is more than currently availiable stock\")\n",
    "else:\n",
    "    print(order_amount, \"costs $\", total)\n",
    "\n"
   ]
  },
  {
   "cell_type": "markdown",
   "metadata": {},
   "source": [
    "This module code actually passed... I'm not happy that there is no error checking on the input (we should make sure it can be converted to a float or ask again...), and also that the dollar amounts are not formatted to be only 2 decimal places. There has to be a way to do that, but I guess they have not shown it yet (as opposed to I missed that bit for skipping over too much stuff.) \n",
    "\n",
    "Still, for my own ideas on how to teach code, I would include formatting with the first program that deals with money, I think it's important. And error checking is important when you are getting input as well..."
   ]
  },
  {
   "cell_type": "markdown",
   "metadata": {},
   "source": [
    "## Module 4: Nesting and Loops\n",
    "Rounding out the \"basics\" of what we need to know in a programming langauge...??? Or should there be more? Is this beginning and objects then advanced? What about arrays for instance? Do they come in the next course? They belong with loops on some level..."
   ]
  },
  {
   "cell_type": "code",
   "execution_count": 6,
   "metadata": {},
   "outputs": [
    {
     "name": "stdout",
     "output_type": "stream",
     "text": [
      "Play Again? (y/n) what\n",
      "You are playing the game still...\n",
      "Play Again? (y/n) yes, I would love to play again\n",
      "Thank you for playing! You played 2 rounds.\n"
     ]
    }
   ],
   "source": [
    "# Forever while loop\n",
    "def playGame(rounds):\n",
    "    print(\"You are playing the game still...\")\n",
    "    return rounds + 1\n",
    "    \n",
    "rounds = 1\n",
    "while True:\n",
    "    if \"n\" in input(\"Play Again? (y/n) \").lower():\n",
    "        print(\"Thank you for playing! You played\", rounds, \"rounds.\")\n",
    "        break\n",
    "    else:\n",
    "        rounds = playGame(rounds)\n",
    "        \n",
    "\n",
    "    "
   ]
  },
  {
   "cell_type": "code",
   "execution_count": 12,
   "metadata": {},
   "outputs": [
    {
     "name": "stdout",
     "output_type": "stream",
     "text": [
      "The new line character is \"\\n\"\n",
      "\"That's how we escape!\"\n",
      "1\tone\n",
      "22\ttwo\n",
      "333\tthree\n",
      "\"\"Hello there!\"\"\n"
     ]
    }
   ],
   "source": [
    "# Escape Characters\n",
    "print(\"The new line character is \\\"\\\\n\\\"\")\n",
    "print(\"\\\"That\\'s how we escape!\\\"\")\n",
    "print(\"1\\tone\\n22\\ttwo\\n333\\tthree\")\n",
    "def quote_me(str):\n",
    "    new_str = \"\\\"\" + str + \"\\\"\"\n",
    "    return new_str\n",
    "\n",
    "print(quote_me('\"Hello there!\"'))\n",
    "\n",
    "    "
   ]
  },
  {
   "cell_type": "code",
   "execution_count": 18,
   "metadata": {},
   "outputs": [
    {
     "name": "stdout",
     "output_type": "stream",
     "text": [
      "enter word or integer: \n",
      "enter word or integer: \n",
      "enter word or integer: \n",
      "enter word or integer: \n",
      "enter word or integer: \n",
      "enter word or integer: Karen\n",
      "\"Karen\" is all all alphabetic!\n"
     ]
    }
   ],
   "source": [
    "#module 4 code challenge\n",
    "def str_analysis(str):\n",
    "    if str.isdigit():\n",
    "        the_num = int(str)\n",
    "        if the_num < 100:\n",
    "            sa = \"\\\"\" + str + \"\\\" is a small number!\"\n",
    "        else:\n",
    "            sa = \"\\\"\" + str + \"\\\" is a big number!\"\n",
    "    elif str.isalpha():\n",
    "        sa = \"\\\"\" + str + \"\\\" is all all alphabetic!\"\n",
    "    else:\n",
    "        sa = \"\\\"\" + str + \"\\\" has multiple character types!\"\n",
    "    return sa\n",
    "        \n",
    "while True:\n",
    "    the_str = input(\"enter word or integer: \")\n",
    "    if  the_str != \"\":\n",
    "        print(str_analysis(the_str))\n",
    "        break\n",
    "        \n",
    "\n"
   ]
  },
  {
   "cell_type": "code",
   "execution_count": 43,
   "metadata": {},
   "outputs": [
    {
     "name": "stdout",
     "output_type": "stream",
     "text": [
      "Enter digit or quit: 3\n",
      "Enter digit or quit: 6\n",
      "Enter digit or quit: 9\n",
      "Enter digit or quit: Q\n",
      "\n",
      "Items\n",
      "3\n",
      "6\n",
      "9\n",
      "\n",
      "\n",
      "Total\n",
      "18\n",
      "Enter digit or quit: 2\n",
      "Enter digit or quit: 4\n",
      "Enter digit or quit: 6\n",
      "Enter digit or quit: Q\n",
      "\n",
      "Total\n",
      "12\n"
     ]
    }
   ],
   "source": [
    "#final coding activity\n",
    "\n",
    "def adding_report(t =\"T\"):\n",
    "    items = \"\"\n",
    "    total = 0\n",
    "    while True:\n",
    "        x = input(\"Enter digit or quit: \")\n",
    "        if x.upper().startswith(\"Q\"):\n",
    "            if t==\"A\":\n",
    "                print(\"\\nItems\\n\" + items)\n",
    "                print(\"\\nTotal\\n\" + str(total))\n",
    "            elif t==\"T\":\n",
    "                print(\"\\nTotal\\n\" + str(total))\n",
    "            break\n",
    "        elif x.isdigit():\n",
    "            if t==\"A\":\n",
    "                items = items + x + \"\\n\"\n",
    "                total += int(x)\n",
    "            elif t==\"T\":\n",
    "                total += int(x)\n",
    "        else:\n",
    "            print(x, \"is invalid input\")\n",
    "        \n",
    "adding_report(\"A\")\n",
    "adding_report()\n",
    "        "
   ]
  },
  {
   "cell_type": "code",
   "execution_count": 47,
   "metadata": {},
   "outputs": [
    {
     "name": "stdout",
     "output_type": "stream",
     "text": [
      "enter some things eated in the last 24 hours: nuts, milk, butter, cheese, pasta, chocolate\n",
      "It looks like 'nuts, milk, butter, cheese, pasta, chocolate' contains 'chocolate'\n",
      "It looks like 'nuts, milk, butter, cheese, pasta, chocolate' contains 'nuts'\n"
     ]
    }
   ],
   "source": [
    "# module 1 code assignment\n",
    "\n",
    "foods = input(\"enter some things eated in the last 24 hours: \")\n",
    "allergen = \"dairy\"\n",
    "if allergen in foods.lower():\n",
    "    print(\"It looks like '\" + foods +\"' contains '\" + allergen + \"'\")\n",
    "allergen = \"chocolate\"\n",
    "if allergen in foods.lower():\n",
    "    print(\"It looks like '\" + foods +\"' contains '\" + allergen + \"'\")\n",
    "allergen = \"nuts\"\n",
    "if allergen in foods.lower():\n",
    "    print(\"It looks like '\" + foods +\"' contains '\" + allergen + \"'\")\n",
    "allergen = \"seafood\"\n",
    "if allergen in foods.lower():\n",
    "    print(\"It looks like '\" + foods +\"' contains '\" + allergen + \"'\")\n",
    "    "
   ]
  },
  {
   "cell_type": "code",
   "execution_count": null,
   "metadata": {},
   "outputs": [],
   "source": []
  }
 ],
 "metadata": {
  "kernelspec": {
   "display_name": "Python 3.6",
   "language": "python",
   "name": "python36"
  },
  "language_info": {
   "codemirror_mode": {
    "name": "ipython",
    "version": 3
   },
   "file_extension": ".py",
   "mimetype": "text/x-python",
   "name": "python",
   "nbconvert_exporter": "python",
   "pygments_lexer": "ipython3",
   "version": "3.6.3"
  }
 },
 "nbformat": 4,
 "nbformat_minor": 2
}
